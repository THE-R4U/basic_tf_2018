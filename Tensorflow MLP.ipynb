{
 "cells": [
  {
   "cell_type": "code",
   "execution_count": null,
   "metadata": {
    "collapsed": true
   },
   "outputs": [],
   "source": [
    "import tensorflow as tf\n",
    "import matplotlib.pyplot as plt\n",
    "import numpy as np\n",
    "%matplotlib inline"
   ]
  },
  {
   "cell_type": "code",
   "execution_count": null,
   "metadata": {
    "collapsed": true
   },
   "outputs": [],
   "source": [
    "mnist = input_data.read_data_sets('./mnist', one_hot=True)"
   ]
  },
  {
   "cell_type": "code",
   "execution_count": null,
   "metadata": {
    "collapsed": true
   },
   "outputs": [],
   "source": [
    "def plot_mnist(data, classes, incorrect=None):\n",
    "    for i in range(10):\n",
    "        idxs = (classes == i) #조건에 맞는 index만 True 나머지는 False로 리턴된다.\n",
    "        # 클래스 i에 해당하는 10개의 데이터\n",
    "        \n",
    "        if incorrect is not None:\n",
    "            idxs *= incorrect\n",
    "        \n",
    "        images = data[idxs][0:10] #True조건을 만족하는 index로 data를 뽑고 그 중 10개를 뽑는다.\n",
    "            \n",
    "        for j in range(5):   \n",
    "            plt.subplot(5, 10, i + j*10 + 1) # 행, 열, plot번호\n",
    "            plt.imshow(images[j].reshape(28, 28), cmap='gray')\n",
    "            # 클래스당 타이틀 표시\n",
    "            if j == 0:\n",
    "                plt.title(i)\n",
    "            plt.axis('off')\n",
    "    plt.show()"
   ]
  }
 ],
 "metadata": {
  "kernelspec": {
   "display_name": "Python 3",
   "language": "python",
   "name": "python3"
  },
  "language_info": {
   "codemirror_mode": {
    "name": "ipython",
    "version": 3
   },
   "file_extension": ".py",
   "mimetype": "text/x-python",
   "name": "python",
   "nbconvert_exporter": "python",
   "pygments_lexer": "ipython3",
   "version": "3.6.5"
  }
 },
 "nbformat": 4,
 "nbformat_minor": 2
}
