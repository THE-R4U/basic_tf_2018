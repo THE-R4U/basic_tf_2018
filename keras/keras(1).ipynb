{
 "cells": [
  {
   "cell_type": "markdown",
   "metadata": {},
   "source": [
    "# Keras Basic Model"
   ]
  },
  {
   "cell_type": "code",
   "execution_count": null,
   "metadata": {},
   "outputs": [],
   "source": [
    "import matplotlib.pyplot as plt"
   ]
  },
  {
   "cell_type": "code",
   "execution_count": null,
   "metadata": {},
   "outputs": [],
   "source": [
    "def plot_mnist(data, classes, labels, incorrect=None):\n",
    "    plt.figure(figsize=(15,15))\n",
    "    for i in range(10):\n",
    "        idxs = (classes == i) #조건에 맞는 index만 True 나머지는 False로 리턴된다.\n",
    "        # 클래스 i에 해당하는 10개의 데이터\n",
    "        \n",
    "        if incorrect is not None:\n",
    "            idxs *= incorrect\n",
    "        \n",
    "        images = data[idxs][0:10] #True조건을 만족하는 index로 data를 뽑고 그 중 10개를 뽑는다.\n",
    "            \n",
    "        for j in range(5):   \n",
    "            plt.subplot(5, 10, i + j*10 + 1) # 행, 열, plot번호\n",
    "            plt.imshow(images[j].reshape(28, 28), cmap='gray')\n",
    "            # 클래스당 타이틀 표시\n",
    "            if j == 0:\n",
    "                plt.title(labels[i])\n",
    "            plt.axis('off')\n",
    "    plt.show()"
   ]
  },
  {
   "cell_type": "code",
   "execution_count": null,
   "metadata": {},
   "outputs": [],
   "source": [
    "CLASSES = 10\n",
    "LABELS = ['T-shirts', 'Trouser', 'Pullover', 'Dress', 'Coat', 'Sandal', 'Shirt', 'Sneaker', 'Bag', 'Ankle Boot']"
   ]
  },
  {
   "cell_type": "code",
   "execution_count": null,
   "metadata": {},
   "outputs": [],
   "source": []
  }
 ],
 "metadata": {
  "kernelspec": {
   "display_name": "Python 3",
   "language": "python",
   "name": "python3"
  },
  "language_info": {
   "codemirror_mode": {
    "name": "ipython",
    "version": 3
   },
   "file_extension": ".py",
   "mimetype": "text/x-python",
   "name": "python",
   "nbconvert_exporter": "python",
   "pygments_lexer": "ipython3",
   "version": "3.6.6"
  }
 },
 "nbformat": 4,
 "nbformat_minor": 2
}
